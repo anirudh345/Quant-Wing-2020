{
 "cells": [
  {
   "cell_type": "code",
   "execution_count": 2,
   "metadata": {},
   "outputs": [],
   "source": [
    "import math\n",
    "def BAPM(volatility, strike, rate, expiry, n_steps):\n",
    "    def opt_price(v, disc_fact, p):\n",
    "        n=len(v)\n",
    "        v1=[]\n",
    "        for i in range(0,n-1):\n",
    "            v1.append(round((disc_fact*(v[i+1]*p+v[i]*(1-p))),2))\n",
    "        return v1\n",
    "    t=expiry/n_steps\n",
    "    disc_fact=math.exp(-rate*t)\n",
    "    c1=math.exp((rate+volatility*volatility)*t)\n",
    "    c2=0.5*(c1+disc_fact)\n",
    "    u=c2+math.sqrt(c2**2-1)\n",
    "    v=1/u\n",
    "    p=(math.exp(rate*t)-v)/(u-v)\n",
    "    s=[strike*(v**n_steps)]\n",
    "    for i in range(n_steps):\n",
    "        s.append(round((s[len(s)-1]*(u**2)),2))\n",
    "    v=[]\n",
    "    strike=100\n",
    "    for i in range(n_steps+1):\n",
    "        if(s[i]>strike):\n",
    "            v.append(round(s[i]-strike,2))\n",
    "        else:\n",
    "            v.append(0)\n",
    "    while(len(v)>1):\n",
    "        v=opt_price(v, disc_fact, p)\n",
    "    return v"
   ]
  },
  {
   "cell_type": "code",
   "execution_count": null,
   "metadata": {},
   "outputs": [],
   "source": []
  }
 ],
 "metadata": {
  "kernelspec": {
   "display_name": "Python 3",
   "language": "python",
   "name": "python3"
  },
  "language_info": {
   "codemirror_mode": {
    "name": "ipython",
    "version": 3
   },
   "file_extension": ".py",
   "mimetype": "text/x-python",
   "name": "python",
   "nbconvert_exporter": "python",
   "pygments_lexer": "ipython3",
   "version": "3.7.3"
  }
 },
 "nbformat": 4,
 "nbformat_minor": 4
}
