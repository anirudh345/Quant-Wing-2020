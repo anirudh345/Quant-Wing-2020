{
 "cells": [
  {
   "cell_type": "code",
   "execution_count": 14,
   "metadata": {},
   "outputs": [
    {
     "name": "stderr",
     "output_type": "stream",
     "text": [
      "C:\\Users\\91911\\Anaconda3\\lib\\site-packages\\ipykernel_launcher.py:45: ClusterWarning: scipy.cluster: The symmetric non-negative hollow observation matrix looks suspiciously like an uncondensed distance matrix\n"
     ]
    },
    {
     "name": "stdout",
     "output_type": "stream",
     "text": [
      "The most unrelated stocks are-\n",
      "['tsla', 'cmcsa', 'csco', 'nvda', 'intc']\n"
     ]
    },
    {
     "data": {
      "image/png": "[encoded data removed]",
      "text/plain": [
       "<Figure size 432x288 with 1 Axes>"
      ]
     },
     "metadata": {},
     "output_type": "display_data"
    },
    {
     "data": {
      "image/png": "[encoded data removed]",
      "text/plain": [
       "<Figure size 432x288 with 2 Axes>"
      ]
     },
     "metadata": {},
     "output_type": "display_data"
    }
   ],
   "source": [
    "import pandas as pd\n",
    "import yfinance as yf\n",
    "from pyhrp.hrp import dist, linkage, tree, _hrp\n",
    "import matplotlib.pyplot as plt\n",
    "import scipy.cluster.hierarchy as sch\n",
    "from scipy.cluster.hierarchy import dendrogram\n",
    "nasdaq_100=pd.read_csv(\"C:/Users/91911/Downloads/nasdaq 100.csv\",index_col=0,header=0)\n",
    "nasdaq_100.sort_values(by=['MARKET CAP'],inplace=True,ascending=False)\n",
    "nasdaq_20=nasdaq_100.head(20)\n",
    "assets=nasdaq_20.index\n",
    "from datetime import datetime\n",
    "st='2015-08-01'\n",
    "today='2020-08-20'\n",
    "df=pd.DataFrame()\n",
    "for stock in assets:\n",
    "    ticker=yf.Ticker(stock)\n",
    "    df[stock]=ticker.history(start=st, end=today, period='M')['Close']\n",
    "monthly_rets=df\n",
    "monthly_rets=monthly_rets.dropna()\n",
    "corr=monthly_rets.corr()\n",
    "cov=monthly_rets.cov()\n",
    "links = linkage(dist(corr.values), method='ward')\n",
    "node = tree(links)\n",
    "rootcluster = _hrp(node, cov)\n",
    "def correlDist(corr):\n",
    "    dist = ((1 - corr) / 2.)**.5  # distance matrix\n",
    "    return dist\n",
    "dist=correlDist(corr)\n",
    "def getQuasiDiag(link):\n",
    "    # Sort clustered items by distance\n",
    "    link = link.astype(int)\n",
    "    sortIx = pd.Series([link[-1, 0], link[-1, 1]])\n",
    "    numItems = link[-1, 3]  # number of original items\n",
    "    while sortIx.max() >= numItems:\n",
    "        sortIx.index = range(0, sortIx.shape[0] * 2, 2)  # make space\n",
    "        df0 = sortIx[sortIx >= numItems]  # find clusters\n",
    "        i = df0.index\n",
    "        j = df0.values - numItems\n",
    "        sortIx[i] = link[j, 0]  # item 1\n",
    "        df0 = pd.Series(link[j, 1], index=i + 1)\n",
    "        sortIx = sortIx.append(df0)  # item 2\n",
    "        sortIx = sortIx.sort_index()  # re-sort\n",
    "        sortIx.index = range(sortIx.shape[0])  # re-index\n",
    "    return sortIx.tolist()\n",
    "link = sch.linkage(dist, 'single')\n",
    "dn = sch.dendrogram(link, labels=cov.index.values, leaf_rotation=90)\n",
    "sortIx = getQuasiDiag(link)\n",
    "sortIx = corr.index[sortIx].tolist()\n",
    "corr_sort=corr.loc[sortIx][sortIx]\n",
    "l=[]\n",
    "for i in range(5):\n",
    "    l.append(assets[dn['leaves'][:5]][i])\n",
    "print('The most unrelated stocks are-')\n",
    "print(l)\n",
    "plt.figure()\n",
    "plt.pcolormesh(correlDist(dist.loc[sortIx][sortIx]))\n",
    "plt.colorbar()\n",
    "plt.title('Estimated distance matrix')\n",
    "plt.show()"
   ]
  },
  {
   "cell_type": "code",
   "execution_count": 15,
   "metadata": {},
   "outputs": [
    {
     "data": {
      "text/html": [
       "<div>\n",
       "<style scoped>\n",
       "    .dataframe tbody tr th:only-of-type {\n",
       "        vertical-align: middle;\n",
       "    }\n",
       "\n",
       "    .dataframe tbody tr th {\n",
       "        vertical-align: top;\n",
       "    }\n",
       "\n",
       "    .dataframe thead th {\n",
       "        text-align: right;\n",
       "    }\n",
       "</style>\n",
       "<table border=\"1\" class=\"dataframe\">\n",
       "  <thead>\n",
       "    <tr style=\"text-align: right;\">\n",
       "      <th></th>\n",
       "      <th>tsla</th>\n",
       "      <th>cmcsa</th>\n",
       "      <th>csco</th>\n",
       "      <th>nvda</th>\n",
       "      <th>intc</th>\n",
       "    </tr>\n",
       "  </thead>\n",
       "  <tbody>\n",
       "    <tr>\n",
       "      <th>tsla</th>\n",
       "      <td>1.000000</td>\n",
       "      <td>0.413508</td>\n",
       "      <td>0.333301</td>\n",
       "      <td>0.743960</td>\n",
       "      <td>0.527148</td>\n",
       "    </tr>\n",
       "    <tr>\n",
       "      <th>cmcsa</th>\n",
       "      <td>0.413508</td>\n",
       "      <td>1.000000</td>\n",
       "      <td>0.781996</td>\n",
       "      <td>0.645805</td>\n",
       "      <td>0.723354</td>\n",
       "    </tr>\n",
       "    <tr>\n",
       "      <th>csco</th>\n",
       "      <td>0.333301</td>\n",
       "      <td>0.781996</td>\n",
       "      <td>1.000000</td>\n",
       "      <td>0.710221</td>\n",
       "      <td>0.869948</td>\n",
       "    </tr>\n",
       "    <tr>\n",
       "      <th>nvda</th>\n",
       "      <td>0.743960</td>\n",
       "      <td>0.645805</td>\n",
       "      <td>0.710221</td>\n",
       "      <td>1.000000</td>\n",
       "      <td>0.834261</td>\n",
       "    </tr>\n",
       "    <tr>\n",
       "      <th>intc</th>\n",
       "      <td>0.527148</td>\n",
       "      <td>0.723354</td>\n",
       "      <td>0.869948</td>\n",
       "      <td>0.834261</td>\n",
       "      <td>1.000000</td>\n",
       "    </tr>\n",
       "  </tbody>\n",
       "</table>\n",
       "</div>"
      ],
      "text/plain": [
       "           tsla     cmcsa      csco      nvda      intc\n",
       "tsla   1.000000  0.413508  0.333301  0.743960  0.527148\n",
       "cmcsa  0.413508  1.000000  0.781996  0.645805  0.723354\n",
       "csco   0.333301  0.781996  1.000000  0.710221  0.869948\n",
       "nvda   0.743960  0.645805  0.710221  1.000000  0.834261\n",
       "intc   0.527148  0.723354  0.869948  0.834261  1.000000"
      ]
     },
     "execution_count": 15,
     "metadata": {},
     "output_type": "execute_result"
    }
   ],
   "source": [
    "corr.loc[l][l]"
   ]
  },
  {
   "cell_type": "code",
   "execution_count": null,
   "metadata": {},
   "outputs": [],
   "source": []
  }
 ],
 "metadata": {
  "kernelspec": {
   "display_name": "Python 3",
   "language": "python",
   "name": "python3"
  },
  "language_info": {
   "codemirror_mode": {
    "name": "ipython",
    "version": 3
   },
   "file_extension": ".py",
   "mimetype": "text/x-python",
   "name": "python",
   "nbconvert_exporter": "python",
   "pygments_lexer": "ipython3",
   "version": "3.7.3"
  }
 },
 "nbformat": 4,
 "nbformat_minor": 4
}
